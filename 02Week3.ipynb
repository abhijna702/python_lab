{
 "cells": [
  {
   "cell_type": "code",
   "execution_count": 1,
   "id": "e1a32311-2aac-4c2e-a158-658d102d31c2",
   "metadata": {},
   "outputs": [
    {
     "name": "stdout",
     "output_type": "stream",
     "text": [
      "Common values: [4, 5]\n"
     ]
    }
   ],
   "source": [
    "#1 ii)Write a program to find common values between two arrays\n",
    "list1 = [1, 2, 3, 4, 5]\n",
    "list2 = [4, 5, 6, 7, 8]\n",
    "\n",
    "set1 = set(list1)\n",
    "set2 = set(list2)\n",
    "common_values = set1 & set2\n",
    "common_values_list = list(common_values)\n",
    "\n",
    "print(\"Common values:\", common_values_list)"
   ]
  },
  {
   "cell_type": "code",
   "execution_count": 2,
   "id": "cde16723-3474-4218-8a86-a95d5a1e16fb",
   "metadata": {},
   "outputs": [
    {
     "name": "stdout",
     "output_type": "stream",
     "text": [
      "The GCD of 48 and 18 is 6\n"
     ]
    }
   ],
   "source": [
    "#2. Write a function called gcd that takes parameters a and b and returns their greatest common divisor\n",
    "import math\n",
    "\n",
    "def gcd(a, b):\n",
    "    return math.gcd(a, b)\n",
    "\n",
    "num1 = 48\n",
    "num2 = 18\n",
    "print(f\"The GCD of {num1} and {num2} is {gcd(num1, num2)}\")"
   ]
  },
  {
   "cell_type": "code",
   "execution_count": 4,
   "id": "d6c7bd63-752b-42ad-af86-4d2e2853dc7a",
   "metadata": {},
   "outputs": [
    {
     "name": "stdout",
     "output_type": "stream",
     "text": [
      "palindrome\n"
     ]
    }
   ],
   "source": [
    "\n",
    "#3.Palindrome\n",
    "def palindrome(s):\n",
    "    s = s.lower()\n",
    "    s = s.replace(\" \", \"\")\n",
    "    s1=s[::-1]\n",
    "    if s==s1:\n",
    "        print(\"palindrome\")\n",
    "    else:\n",
    "        print(\"not palindrome\")\n",
    "\n",
    "test_string = \"mom\"\n",
    "palindrome(test_string)"
   ]
  },
  {
   "cell_type": "code",
   "execution_count": 5,
   "id": "2030b28d-80b7-4c68-a383-160ba6b4d3a4",
   "metadata": {},
   "outputs": [
    {
     "name": "stdout",
     "output_type": "stream",
     "text": [
      "MEAN= 38.57142857142857\n",
      "MEDIAN= 40\n",
      "MODE= 60\n"
     ]
    }
   ],
   "source": [
    "#4. Find mean, median, mode for the given set of numbers in a list.\n",
    "import statistics\n",
    "list3=[10,20,30,40,50,60,60]\n",
    "list3_mean=statistics.mean(list3)\n",
    "list3_median=statistics.median(list3)\n",
    "list3_mode=statistics.mode(list3)\n",
    "print(f\"MEAN= {list3_mean}\")\n",
    "print(f\"MEDIAN= {list3_median}\")\n",
    "print(f\"MODE= {list3_mode}\")"
   ]
  },
  {
   "cell_type": "code",
   "execution_count": 6,
   "id": "2bcd5cc5-244c-4696-a1d8-31319bbb6847",
   "metadata": {},
   "outputs": [
    {
     "name": "stdout",
     "output_type": "stream",
     "text": [
      "(478, 456, 98)\n",
      "<class 'tuple'>\n"
     ]
    }
   ],
   "source": [
    "# 5. Write a Python program to create a tuple.\n",
    "tuple1=(478,456,98)\n",
    "print(tuple1)\n",
    "print(type(tuple1))"
   ]
  },
  {
   "cell_type": "code",
   "execution_count": 7,
   "id": "f6a5d9c2-1b72-4319-9d8a-f486ae766859",
   "metadata": {},
   "outputs": [
    {
     "name": "stdout",
     "output_type": "stream",
     "text": [
      "('hello', 123, True)\n"
     ]
    }
   ],
   "source": [
    "# 6. Write a Python program to create a tuple with different data types.\n",
    "tuple2=(\"hello\",123,True)\n",
    "print(tuple2)"
   ]
  },
  {
   "cell_type": "code",
   "execution_count": null,
   "id": "fef3db06-0756-495a-8e0a-8da1e32c9459",
   "metadata": {},
   "outputs": [],
   "source": []
  }
 ],
 "metadata": {
  "kernelspec": {
   "display_name": "Python 3 (ipykernel)",
   "language": "python",
   "name": "python3"
  },
  "language_info": {
   "codemirror_mode": {
    "name": "ipython",
    "version": 3
   },
   "file_extension": ".py",
   "mimetype": "text/x-python",
   "name": "python",
   "nbconvert_exporter": "python",
   "pygments_lexer": "ipython3",
   "version": "3.12.7"
  }
 },
 "nbformat": 4,
 "nbformat_minor": 5
}
