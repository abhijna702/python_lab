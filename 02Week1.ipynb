{
 "cells": [
  {
   "cell_type": "code",
   "execution_count": 1,
   "id": "228879a6-c74f-480a-90b0-9cca9a31bcc2",
   "metadata": {},
   "outputs": [
    {
     "name": "stdin",
     "output_type": "stream",
     "text": [
      " 1\n",
      " 2\n"
     ]
    },
    {
     "name": "stdout",
     "output_type": "stream",
     "text": [
      "addition: 3\n",
      "subtraction: -1\n",
      "multiplication: 2\n",
      "division: 0.5\n"
     ]
    }
   ],
   "source": [
    "#start a Python interpretor and use it as a calculator\n",
    "a=int(input())\n",
    "b=int(input())\n",
    "print(\"addition:\",a+b)\n",
    "print(\"subtraction:\",a-b)\n",
    "print(\"multiplication:\",a*b)\n",
    "print(\"division:\",a/b)\n"
   ]
  },
  {
   "cell_type": "code",
   "execution_count": 2,
   "id": "64380cb0-e225-4fa4-bd13-6625eb1e0da1",
   "metadata": {},
   "outputs": [
    {
     "ename": "IndentationError",
     "evalue": "unexpected indent (1774911036.py, line 3)",
     "output_type": "error",
     "traceback": [
      "\u001b[1;36m  Cell \u001b[1;32mIn[2], line 3\u001b[1;36m\u001b[0m\n\u001b[1;33m    b=3\u001b[0m\n\u001b[1;37m    ^\u001b[0m\n\u001b[1;31mIndentationError\u001b[0m\u001b[1;31m:\u001b[0m unexpected indent\n"
     ]
    }
   ],
   "source": [
    "#PROGRAM TO SHOW INDENTATION ERROR\n",
    "a=2\n",
    " b=3\n",
    "print(b)"
   ]
  },
  {
   "cell_type": "code",
   "execution_count": 5,
   "id": "a8c65502-6e1b-449a-a8bc-1f10beb22d7b",
   "metadata": {},
   "outputs": [
    {
     "name": "stdin",
     "output_type": "stream",
     "text": [
      " 2\n",
      " 3\n",
      " 5\n"
     ]
    },
    {
     "name": "stdout",
     "output_type": "stream",
     "text": [
      "Compound interest: 2.3152500000000003\n"
     ]
    }
   ],
   "source": [
    "#write a program to calculate compound interest\n",
    "p=int(input())\n",
    "t=int(input())\n",
    "r=int(input())\n",
    "cp=p*(1+(r/100))**t\n",
    "print(\"Compound interest:\",cp)"
   ]
  },
  {
   "cell_type": "code",
   "execution_count": 7,
   "id": "168ebff0-81f5-46c2-8af6-54b055dc2186",
   "metadata": {},
   "outputs": [
    {
     "name": "stdin",
     "output_type": "stream",
     "text": [
      " 1\n",
      " 0\n",
      " 0\n",
      " 1\n"
     ]
    },
    {
     "name": "stdout",
     "output_type": "stream",
     "text": [
      "0.5\n"
     ]
    }
   ],
   "source": [
    "#ii) Given coordinates (x1, y1), (x2, y2) find the distance between two points\n",
    "#Program:\n",
    "x1=int(input())\n",
    "x2=int(input())\n",
    "y1=int(input())\n",
    "y2=int(input())\n",
    "d=((x2-x1)**2+(y2-y2)**2)**1/2\n",
    "print(d)"
   ]
  },
  {
   "cell_type": "code",
   "execution_count": 8,
   "id": "fc6902a8-01db-42d9-98d6-719329d806ee",
   "metadata": {},
   "outputs": [
    {
     "name": "stdin",
     "output_type": "stream",
     "text": [
      "enter your name   Abhi\n",
      "enter your email-id  : lohithaabhijna@gmail.com\n",
      "enter your phone number  : 7780378261\n",
      "enter your address : hyd\n"
     ]
    },
    {
     "name": "stdout",
     "output_type": "stream",
     "text": [
      "Name: Abhi\n",
      "Email-id: lohithaabhijna@gmail.com\n",
      "Phone-no: 7780378261\n",
      "Address: hyd\n"
     ]
    }
   ],
   "source": [
    "\n",
    "#5. Read name, address, email and phone number of a person through keyboard and\n",
    "#print the details.\n",
    "#Program:\n",
    "name=input(\"enter your name  \")\n",
    "email_id=input(\"enter your email-id  :\")\n",
    "phone_no=int(input(\"enter your phone number  :\"))\n",
    "address=input(\"enter your address :\")\n",
    "print(\"Name:\",name)\n",
    "print(\"Email-id:\",email_id)\n",
    "print(\"Phone-no:\",phone_no)\n",
    "print(\"Address:\",address)"
   ]
  },
  {
   "cell_type": "code",
   "execution_count": null,
   "id": "1384d4f6-e1b5-4390-92c5-bed0cb60b7e1",
   "metadata": {},
   "outputs": [],
   "source": []
  }
 ],
 "metadata": {
  "kernelspec": {
   "display_name": "Python 3 (ipykernel)",
   "language": "python",
   "name": "python3"
  },
  "language_info": {
   "codemirror_mode": {
    "name": "ipython",
    "version": 3
   },
   "file_extension": ".py",
   "mimetype": "text/x-python",
   "name": "python",
   "nbconvert_exporter": "python",
   "pygments_lexer": "ipython3",
   "version": "3.12.7"
  }
 },
 "nbformat": 4,
 "nbformat_minor": 5
}
