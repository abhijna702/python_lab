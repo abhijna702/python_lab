{
 "cells": [
  {
   "cell_type": "code",
   "execution_count": 3,
   "id": "9fe14e4c-d6d7-401b-87a0-5e7860c0457a",
   "metadata": {},
   "outputs": [
    {
     "name": "stdout",
     "output_type": "stream",
     "text": [
      "False\n",
      "True\n",
      "False\n"
     ]
    }
   ],
   "source": [
    "\n",
    "#1. Write a function called is_sorted that takes a list as a parameter and returns True if\n",
    "#    the list is sorted in ascending order and False otherwise.\n",
    "def is_sorted(lst):\n",
    "    return lst == sorted(lst)\n",
    "print(is_sorted([1, 2, 0]))  \n",
    "print(is_sorted(['b', 'c','d'])) \n",
    "print(is_sorted([1, 2, 3, 4, 0, 5, 6]))  "
   ]
  },
  {
   "cell_type": "code",
   "execution_count": 8,
   "id": "c0b16663-e9cb-40d8-ae34-e3c13cfb22b5",
   "metadata": {},
   "outputs": [
    {
     "name": "stdout",
     "output_type": "stream",
     "text": [
      "False\n",
      "True\n",
      "True\n"
     ]
    }
   ],
   "source": [
    "#2. Write a function called has_duplicates that takes a list and returns True if there is any\n",
    "#   element that appears more than once. It should not modify the original list.\n",
    "\n",
    "def duplicates(lst):\n",
    "    lst2=set(lst)\n",
    "    if len(lst2)==len(lst):\n",
    "        return True\n",
    "    else:\n",
    "        return False\n",
    "\n",
    "print(duplicates([1, 2, 2, 3, 4, 5]))  \n",
    "print(duplicates(['a', 'b', 'c','d']))  \n",
    "print(duplicates([1, 2, 3, 4, 5, 6]))  \n"
   ]
  },
  {
   "cell_type": "code",
   "execution_count": 11,
   "id": "d9044c12-d096-4f45-8afd-b9e5092a4a7d",
   "metadata": {},
   "outputs": [
    {
     "name": "stdout",
     "output_type": "stream",
     "text": [
      "[1, 2, 3, 4, 5]\n",
      "['b', 'a', 'c']\n",
      "[1, 2, 3, 4, 5, 6]\n"
     ]
    }
   ],
   "source": [
    "# 2.i) Write a function called remove_duplicates that takes a list and returns a new list\n",
    "# with only the unique elements from the original. Hint: they don’t have to be in the same order\n",
    "\n",
    "def has_duplicates(lst):\n",
    "    lst2=list(set(lst))\n",
    "    return lst2\n",
    "print(has_duplicates([1, 2, 2, 3, 4, 5]))  \n",
    "print(has_duplicates(['a', 'b', 'c']))  \n",
    "print(has_duplicates([1, 2, 3, 4, 5, 6]))  "
   ]
  },
  {
   "cell_type": "code",
   "execution_count": 12,
   "id": "ac942bf9-d432-4e3d-b006-af08048456de",
   "metadata": {},
   "outputs": [
    {
     "name": "stdout",
     "output_type": "stream",
     "text": [
      "Inverted dictionary:\n",
      "mon: ['name']\n",
      "30: ['age']\n",
      "hyd: ['city']\n",
      "ts: ['country']\n"
     ]
    }
   ],
   "source": [
    "\n",
    "# 2.iii). Write a python code to read dictionary values from the user. Construct a function to invert its content. \n",
    "\n",
    "def invert_dict(user_dict):\n",
    "   \n",
    "    inverted_dict = {}\n",
    "    for key, value in user_dict.items():\n",
    "        if value not in inverted_dict:\n",
    "            inverted_dict[value] = [key]\n",
    "        else:\n",
    "            inverted_dict[value].append(key)\n",
    "    return inverted_dict\n",
    "\n",
    "\n",
    "user_dict = {\n",
    "    'name': 'mon',\n",
    "    'age': '30',\n",
    "    'city': 'hyd',\n",
    "    'country': 'ts'\n",
    "}\n",
    "\n",
    "\n",
    "inverted_dict = invert_dict(user_dict)\n",
    "\n",
    "print(\"Inverted dictionary:\")\n",
    "for key, value in inverted_dict.items():\n",
    "    print(f\"{key}: {value}\")"
   ]
  },
  {
   "cell_type": "code",
   "execution_count": null,
   "id": "68eb1d8e-8acc-4617-be16-fdf1b5038ddb",
   "metadata": {},
   "outputs": [],
   "source": []
  }
 ],
 "metadata": {
  "kernelspec": {
   "display_name": "Python 3 (ipykernel)",
   "language": "python",
   "name": "python3"
  },
  "language_info": {
   "codemirror_mode": {
    "name": "ipython",
    "version": 3
   },
   "file_extension": ".py",
   "mimetype": "text/x-python",
   "name": "python",
   "nbconvert_exporter": "python",
   "pygments_lexer": "ipython3",
   "version": "3.12.7"
  }
 },
 "nbformat": 4,
 "nbformat_minor": 5
}
