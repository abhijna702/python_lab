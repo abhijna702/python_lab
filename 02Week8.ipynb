{
 "cells": [
  {
   "cell_type": "code",
   "execution_count": 1,
   "id": "aab93033-173c-4031-86bd-a2b4a9d9668f",
   "metadata": {},
   "outputs": [],
   "source": [
    "#1. Write a Python code to merge two given file contents into a third file. \n",
    "#Program:\n",
    "file1=open(\"t1.txt\",\"w\",encoding=\"utf-8\")\n",
    "file2=open(\"t2.txt\",\"w\")\n",
    "file1.write(\"hello\")\n",
    "file2.write(\"world!\")\n",
    "file1.close()\n",
    "file2.close()\n",
    "file1=open(\"t1.txt\",\"r\")\n",
    "data1=file1.read()\n",
    "file2=open(\"t2.txt\",\"r\")\n",
    "data2=file2.read()\n",
    "file1.close()\n",
    "file2.close()\n",
    "file3=open(\"t3.txt\",\"w\")\n",
    "file3.write(data1+\" \"+data2)\n",
    "file3.close()\n",
    "file3=open(\"t3.txt\",\"r\")\n",
    "data=file3.read()\n",
    "file3.close()"
   ]
  },
  {
   "cell_type": "code",
   "execution_count": 2,
   "id": "312538e3-6052-49c6-8998-678fc7015f24",
   "metadata": {},
   "outputs": [
    {
     "name": "stdin",
     "output_type": "stream",
     "text": [
      "Enter word to be searched: aab\n"
     ]
    },
    {
     "name": "stdout",
     "output_type": "stream",
     "text": [
      "not found\n"
     ]
    }
   ],
   "source": [
    "#2. Write a Python code to open a given file and construct a function to check for given words present in it and display on found.\n",
    "#Program:\n",
    "file=open(\"t3.txt\",\"r\")\n",
    "data=file.read()                \n",
    "file.close()\n",
    "def check_word(data,word):\n",
    "    \n",
    "    words=data.split(\" \")\n",
    "    for i in words:\n",
    "        if word==i:\n",
    "            print(\"word found\")\n",
    "            break\n",
    "    else:\n",
    "            print(\"not found\")\n",
    "word=input(\"Enter word to be searched:\")\n",
    "check_word(data,word)"
   ]
  },
  {
   "cell_type": "code",
   "execution_count": 3,
   "id": "6c39e159-6cd8-4c28-961b-4c6612258e7a",
   "metadata": {},
   "outputs": [
    {
     "name": "stdout",
     "output_type": "stream",
     "text": [
      "Most repeated word: aab\n"
     ]
    }
   ],
   "source": [
    "\n",
    " #3. Write a Python code to Read text from a text file, find the word with most number of occurrences.\n",
    "#Program:\n",
    "count=0\n",
    "max_count=0\n",
    "words=[]\n",
    "file=open(\"t1.txt\",\"r\")    \n",
    "for line in file:\n",
    "    string=line.lower().replace(',','').replace('.','').split(\" \")\n",
    "    for s in string:\n",
    "        words.append(s)\n",
    "for i in range (0,len(words)):\n",
    "    count=1\n",
    "    for j in range (i+1,len(words)):\n",
    "        if words[i]==words[j]:\n",
    "            count=count+1\n",
    "        if count>max_count:\n",
    "            max_count=count\n",
    "            word=words[i]\n",
    "print(\"Most repeated word:\",word)"
   ]
  },
  {
   "cell_type": "code",
   "execution_count": 6,
   "id": "082a9af1-ff21-4dec-853c-3df058d07fb3",
   "metadata": {},
   "outputs": [],
   "source": [
    "#4. Write a function that reads a file file1 and displays the number of words, number of vowels, blank spaces, lower case letters and uppercase letters.\n",
    "#Program:\n",
    "file1 = open(\"t1.txt\", \"r\")\n",
    "data=file1.read()  #hello world\n",
    "file1.close()\n",
    "def diaplay():\n",
    "    vowel= 0\n",
    "    space=0\n",
    "    con=0\n",
    "    lower=0\n",
    "    upper=0\n",
    "    vowels = ['a', 'e', 'i', 'o', 'u', 'A', 'E', 'I', 'O', 'U']\n",
    "    words=data.split()\n",
    "    print(\"Total words:\",len(words))\n",
    "    for letter in data:\n",
    "        if letter in vowels:\n",
    "            vowel = vowel+1\n",
    "        elif letter==\" \":\n",
    "                space=space+1\n",
    "        else:\n",
    "            con=con+1\n",
    "        if letter.islower():\n",
    "            lower=lower+1\n",
    "        if letter.isupper():\n",
    "            upper=upper+1\n",
    "\n",
    "    print(\"Total Vowels:\")\n",
    "    print(vowel)\n",
    "    print(\"Total con:\")\n",
    "    print(con)\n",
    "    print(\"Total lower:\")\n",
    "    print(lower)\n",
    "    print(\"Total upper:\")\n",
    "    print(upper)\n",
    "    print(\"Total space:\")\n",
    "    print(space)\n"
   ]
  },
  {
   "cell_type": "code",
   "execution_count": null,
   "id": "6d8eaeb1-eb63-43d3-b409-5f1c5027ae83",
   "metadata": {},
   "outputs": [],
   "source": [
    "\n",
    "#5. Write a program to print each line of a file in reverse order.\n",
    "#Program:\n",
    "file = open (\"text.txt\",\"r\")\n",
    "r=file.read()\n",
    "word=r.split() \n",
    "print(word)\n",
    "l1 =[]\n",
    "for i in word:\n",
    "    l1.append(i[::-1])\n",
    "print (l1)"
   ]
  }
 ],
 "metadata": {
  "kernelspec": {
   "display_name": "Python 3 (ipykernel)",
   "language": "python",
   "name": "python3"
  },
  "language_info": {
   "codemirror_mode": {
    "name": "ipython",
    "version": 3
   },
   "file_extension": ".py",
   "mimetype": "text/x-python",
   "name": "python",
   "nbconvert_exporter": "python",
   "pygments_lexer": "ipython3",
   "version": "3.12.7"
  }
 },
 "nbformat": 4,
 "nbformat_minor": 5
}
