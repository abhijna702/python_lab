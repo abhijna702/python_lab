{
 "cells": [
  {
   "cell_type": "code",
   "execution_count": 1,
   "id": "0d33a4e2-e321-4e5b-9744-c036a2aa4dcf",
   "metadata": {},
   "outputs": [
    {
     "name": "stdout",
     "output_type": "stream",
     "text": [
      "5 \n",
      "4 4 \n",
      "3 3 3 \n",
      "2 2 2 2 \n",
      "1 1 1 1 1 \n"
     ]
    }
   ],
   "source": [
    "#1. Print the below triangle using for loop.\n",
    "#5\n",
    "#4 4\n",
    "#3 3 3\n",
    "#2 2 2 2\n",
    "#1 1 1 1 1\n",
    "\n",
    "num_rows = 5\n",
    "for i in range(num_rows, 0, -1):\n",
    "    for j in range(num_rows+1,i,-1):\n",
    "        print(i, end=' ')\n",
    "    print()"
   ]
  },
  {
   "cell_type": "code",
   "execution_count": 3,
   "id": "3eba1bb1-2592-48f3-9b25-3cc3edc26950",
   "metadata": {},
   "outputs": [
    {
     "name": "stdin",
     "output_type": "stream",
     "text": [
      "Give input: j\n"
     ]
    },
    {
     "name": "stdout",
     "output_type": "stream",
     "text": [
      "j is lowercase\n"
     ]
    }
   ],
   "source": [
    "#2.Write a program to check whether the given input is digit or lowercase character or uppercase \n",
    "a=input(\"Give input:\")\n",
    "if a>='A' and a<='Z':\n",
    "    print(a,\"is Uppercase\")\n",
    "elif a>='a' and a<='z':\n",
    "    print(a,\"is lowercase\")\n",
    "elif a>=\"1\" and a<=\"9\":\n",
    "    print(a,\"is a digit\")\n",
    "else:\n",
    "    print(a,\"is a special character\")"
   ]
  },
  {
   "cell_type": "code",
   "execution_count": 4,
   "id": "883d2a5c-d07f-4280-9128-ff21f33a318f",
   "metadata": {},
   "outputs": [
    {
     "name": "stdout",
     "output_type": "stream",
     "text": [
      "0 1 1 2 3 5 8 13 21 34 "
     ]
    }
   ],
   "source": [
    "#3. Python Program to Print the Fibonacci sequence using while loop\n",
    "n= 10\n",
    "a, b = 0, 1\n",
    "count = 0\n",
    "while count < n:\n",
    "    print(a, end=' ')\n",
    "    a, b = b, a + b\n",
    "    count += 1"
   ]
  },
  {
   "cell_type": "code",
   "execution_count": 7,
   "id": "bc9d7997-97e9-47db-907e-ea5c5e73a764",
   "metadata": {},
   "outputs": [
    {
     "name": "stdin",
     "output_type": "stream",
     "text": [
      " 3\n",
      " 9\n"
     ]
    },
    {
     "name": "stdout",
     "output_type": "stream",
     "text": [
      "3\n",
      "5\n",
      "7\n"
     ]
    }
   ],
   "source": [
    "#4.Python program to print all prime numbers in a given interval (use break)\n",
    "def printnum(start,end):\n",
    "    for num in range(start,end+1):\n",
    "        if num>1:\n",
    "            for i in range(2,num):\n",
    "                if num%i==0:\n",
    "                    break\n",
    "            else:\n",
    "                print(num)\n",
    "start=int(input())\n",
    "end=int(input())\n",
    "printnum(start,end)\n",
    "        "
   ]
  },
  {
   "cell_type": "code",
   "execution_count": 8,
   "id": "8cac31a9-b5e3-46fa-832c-7dd5c5110fb8",
   "metadata": {},
   "outputs": [
    {
     "name": "stdin",
     "output_type": "stream",
     "text": [
      " 5\n",
      " 15\n"
     ]
    },
    {
     "name": "stdout",
     "output_type": "stream",
     "text": [
      "15\n"
     ]
    }
   ],
   "source": [
    "#5.Write a program to compute LCM of two numbers by taking input from the user\n",
    "import math\n",
    "a=int(input())\n",
    "b=int(input())\n",
    "c=math.lcm(a,b)\n",
    "print(c)"
   ]
  },
  {
   "cell_type": "code",
   "execution_count": 10,
   "id": "6abf188d-3ceb-440a-a1e3-e0c355cb56be",
   "metadata": {},
   "outputs": [
    {
     "name": "stdout",
     "output_type": "stream",
     "text": [
      "The sum of -f and C:\\Users\\lohit\\AppData\\Roaming\\jupyter\\runtime\\kernel-27c90ec7-bcba-4c37-80de-da89047eef0e.json is -fC:\\Users\\lohit\\AppData\\Roaming\\jupyter\\runtime\\kernel-27c90ec7-bcba-4c37-80de-da89047eef0e.json\n"
     ]
    }
   ],
   "source": [
    "\n",
    "# 6. Write a program add.py that takes 2 numbers as command line arguments and print its sum\n",
    "\n",
    "import sys\n",
    "if len(sys.argv) != 3:\n",
    "    print(\"Usage: python add.py <number1> <number2>\")\n",
    "    sys.exit(1)\n",
    "\n",
    "# Convert the command line arguments to integers\n",
    "num1 = sys.argv[1]\n",
    "num2 = sys.argv[2]\n",
    "\n",
    "# Calculate and print the sum\n",
    "sum = num1 + num2\n",
    "print(\"The sum of\", num1, \"and\", num2, \"is\", sum)"
   ]
  },
  {
   "cell_type": "code",
   "execution_count": null,
   "id": "5ca61ffb-64e4-41d0-ada5-eeed99a31ebc",
   "metadata": {},
   "outputs": [],
   "source": []
  }
 ],
 "metadata": {
  "kernelspec": {
   "display_name": "Python 3 (ipykernel)",
   "language": "python",
   "name": "python3"
  },
  "language_info": {
   "codemirror_mode": {
    "name": "ipython",
    "version": 3
   },
   "file_extension": ".py",
   "mimetype": "text/x-python",
   "name": "python",
   "nbconvert_exporter": "python",
   "pygments_lexer": "ipython3",
   "version": "3.12.7"
  }
 },
 "nbformat": 4,
 "nbformat_minor": 5
}
